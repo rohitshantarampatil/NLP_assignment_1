{
 "cells": [
  {
   "cell_type": "markdown",
   "metadata": {},
   "source": [
    "# Assignment 1 "
   ]
  },
  {
   "cell_type": "code",
   "execution_count": null,
   "metadata": {},
   "outputs": [],
   "source": [
    "import nltk\n",
    "nltk.download('punkt')\n",
    "nltk.download('wordnet')\n",
    "from nltk import sent_tokenize, word_tokenize\n",
    "from nltk.stem.snowball import SnowballStemmer\n",
    "from nltk.stem.wordnet import WordNetLemmatizer\n",
    "from nltk.corpus import stopwords"
   ]
  },
  {
   "cell_type": "code",
   "execution_count": null,
   "metadata": {},
   "outputs": [],
   "source": [
    "import pandas as pd\n",
    "import numpy as np\n",
    "import re   \n",
    "import string"
   ]
  },
  {
   "cell_type": "code",
   "execution_count": null,
   "metadata": {},
   "outputs": [],
   "source": [
    "data = pd.read_csv(\"tweets-dataset.csv\",encoding = 'utf-8', header = None)\n",
    "#print(data.head)\n",
    "lista= data.values.tolist()\n"
   ]
  },
  {
   "cell_type": "code",
   "execution_count": null,
   "metadata": {},
   "outputs": [],
   "source": [
    "from matplotlib import pyplot as plt"
   ]
  },
  {
   "cell_type": "code",
   "execution_count": null,
   "metadata": {},
   "outputs": [],
   "source": [
    "from nltk.tokenize import TweetTokenizer\n",
    "\n",
    "\n",
    "tz = TweetTokenizer(strip_handles= True)"
   ]
  },
  {
   "cell_type": "code",
   "execution_count": null,
   "metadata": {},
   "outputs": [],
   "source": [
    "#print(lista[:20])\n"
   ]
  },
  {
   "cell_type": "code",
   "execution_count": 178,
   "metadata": {},
   "outputs": [],
   "source": [
    "for i in lista[:20]:\n",
    "    # i = i.translate(None, string.punctuation)\n",
    "    #,print(i)\n",
    "    i = re.sub(r\"http\\S+\", \"\", i[0])\n",
    "    i = re.sub(r\"@\\S+\", \"\", i)\n",
    "    i = re.sub(r\"[0-9]+\",\"\",i)\n",
    "    \n",
    "\n",
    "    translate_table = dict((ord(char), None) for char in string.punctuation)\n",
    "    \n",
    "    i = i.translate(translate_table)\n",
    "    \n",
    "    tokens = tz.tokenize(i)\n",
    "    \n",
    "    #print(tokens)\n",
    "    len_tok = len(tokens)\n",
    "    len_type = len(set(tokens))\n",
    "    #print(len_type / len_tok)"
   ]
  },
  {
   "cell_type": "code",
   "execution_count": 180,
   "metadata": {
    "scrolled": false
   },
   "outputs": [],
   "source": [
    "listfull = []\n",
    "X = []\n",
    "Y = []\n",
    "k = 0\n",
    "\n",
    "main_dict = dict()\n",
    "t = 0\n",
    "for i in lista:\n",
    "    i = re.sub(r\"http\\S+\", \"\", i[0])\n",
    "    i = re.sub(r\"@\\S+\", \"\", i)\n",
    "    i = re.sub(r\"[0-9]+\",\"\",i)\n",
    "    i = i.lower()\n",
    "    translate_table = dict((ord(char), None) for char in string.punctuation)\n",
    "    i = i.translate(translate_table)\n",
    "    tokens = tz.tokenize(i)\n",
    "    #tokens = i.split()\n",
    "    \n",
    "    listfull = listfull + tokens\n",
    "    for i in tokens:\n",
    "        if i in main_dict:\n",
    "            main_dict[i]+=1\n",
    "        else:\n",
    "            main_dict[i] = 1\n",
    "    if t<40:\n",
    "        X.append(len(listfull))\n",
    "        Y.append(len(set(listfull)))\n",
    "    t+=1\n",
    "    if t==40:\n",
    "        t=0\n",
    "    #print(k)\n",
    "    k+=1\n",
    "    \n",
    "#print(main_dict)"
   ]
  },
  {
   "cell_type": "markdown",
   "metadata": {},
   "source": [
    "# TTR(type to token ratio)"
   ]
  },
  {
   "cell_type": "code",
   "execution_count": 181,
   "metadata": {},
   "outputs": [
    {
     "name": "stdout",
     "output_type": "stream",
     "text": [
      "ttr 0.11535774434922896\n"
     ]
    },
    {
     "data": {
      "text/plain": [
       "296287"
      ]
     },
     "execution_count": 181,
     "metadata": {},
     "output_type": "execute_result"
    }
   ],
   "source": [
    "types = list(set(listfull))\n",
    "ttr = len(types)/len(listfull)\n",
    "print('ttr',ttr)\n",
    "len(listfull)\n"
   ]
  },
  {
   "cell_type": "markdown",
   "metadata": {},
   "source": [
    "# Heap's Law"
   ]
  },
  {
   "cell_type": "code",
   "execution_count": null,
   "metadata": {
    "scrolled": false
   },
   "outputs": [],
   "source": [
    "#print(main_dict)"
   ]
  },
  {
   "cell_type": "code",
   "execution_count": 182,
   "metadata": {},
   "outputs": [
    {
     "name": "stdout",
     "output_type": "stream",
     "text": [
      "13.306903973184864 0.6237926688966955\n"
     ]
    }
   ],
   "source": [
    "from scipy.optimize import curve_fit \n",
    "def test2(x,a,b):\n",
    "    return(a*(x)**b)\n",
    "param, param_cov = curve_fit(test2, X, Y) \n",
    "ans = []\n",
    "for i in X:\n",
    "    ans.append(param[0]*(i)**param[1])\n",
    "print(param[0],param[1])             # Y = KN^B"
   ]
  },
  {
   "cell_type": "code",
   "execution_count": 183,
   "metadata": {},
   "outputs": [
    {
     "data": {
      "image/png": "[encoded data removed]",
      "text/plain": [
       "<Figure size 432x288 with 1 Axes>"
      ]
     },
     "metadata": {
      "needs_background": "light"
     },
     "output_type": "display_data"
    }
   ],
   "source": [
    "plt.plot(X, Y, 'o', color ='yellow', label =\"data\") \n",
    "plt.plot(X, ans, '--', color ='blue', label =\"optimized data\") \n",
    "plt.xlabel(\"Size of Corpus\")\n",
    "plt.ylabel(\"Vocabulary size\")\n",
    "plt.legend() \n",
    "plt.show() \n"
   ]
  },
  {
   "cell_type": "markdown",
   "metadata": {},
   "source": [
    "# Zipf's law of meaning"
   ]
  },
  {
   "cell_type": "code",
   "execution_count": 184,
   "metadata": {},
   "outputs": [],
   "source": [
    "from nltk.corpus import wordnet   #Import wordnet from the NLTK"
   ]
  },
  {
   "cell_type": "code",
   "execution_count": 189,
   "metadata": {},
   "outputs": [
    {
     "name": "stderr",
     "output_type": "stream",
     "text": [
      "No handles with labels found to put in legend.\n"
     ]
    },
    {
     "data": {
      "image/png": "[encoded data removed]",
      "text/plain": [
       "<Figure size 576x216 with 1 Axes>"
      ]
     },
     "metadata": {
      "needs_background": "light"
     },
     "output_type": "display_data"
    }
   ],
   "source": [
    "import random\n",
    "import math\n",
    "words = random.choices(types, k=60000)\n",
    "words.sort()\n",
    "#print(words)\n",
    "dict2 = dict()\n",
    "x_new=[]\n",
    "y_new=[]\n",
    "for i in words:\n",
    "    dict2[i] = wordnet.synsets(i)\n",
    "    sy = wordnet.synsets(i)\n",
    "    \n",
    "    if len(sy)>0:                    #if the word exists in wordnet\n",
    "        x_new.append(main_dict[i])\n",
    "        y_new.append(len(sy[0].lemmas()))\n",
    "\n",
    "def sort_list(list1, list2): \n",
    "  \n",
    "    zipped_pairs = zip(list2, list1) \n",
    "  \n",
    "    z = [x for _, x in sorted(zipped_pairs)] \n",
    "      \n",
    "    return z \n",
    "\n",
    "y_new = sort_list(y_new,x_new)\n",
    "x_new.sort()\n",
    "        \n",
    "plt.figure(figsize=(8,3))\n",
    "plt.xlabel(\"Frequency\")\n",
    "plt.ylabel(\"Meanings\")\n",
    "plt.scatter(x_new,y_new)\n",
    "\n",
    "plt.legend() \n",
    "plt.show() \n",
    "    \n"
   ]
  },
  {
   "cell_type": "code",
   "execution_count": null,
   "metadata": {},
   "outputs": [],
   "source": []
  },
  {
   "cell_type": "markdown",
   "metadata": {},
   "source": [
    "# Zipf's law of length"
   ]
  },
  {
   "cell_type": "code",
   "execution_count": 186,
   "metadata": {},
   "outputs": [
    {
     "name": "stderr",
     "output_type": "stream",
     "text": [
      "No handles with labels found to put in legend.\n"
     ]
    },
    {
     "data": {
      "image/png": "[encoded data removed]",
      "text/plain": [
       "<Figure size 576x216 with 1 Axes>"
      ]
     },
     "metadata": {
      "needs_background": "light"
     },
     "output_type": "display_data"
    }
   ],
   "source": [
    "from scipy.optimize import curve_fit \n",
    "\n",
    "x_len = []\n",
    "y_freq = []\n",
    "\n",
    "for k in types:\n",
    "\n",
    "    x_len.append(len(k)) \n",
    "    y_freq.append(main_dict[k])\n",
    "\n",
    "\n",
    "param, param_cov = curve_fit(test_1, x_len, y_freq) \n",
    "predicted = []\n",
    "for i in x_len:\n",
    "    predicted.append(param[0]/i)\n",
    "\n",
    "plt.figure(figsize=(8,3))\n",
    "\n",
    "plt.scatter( y_freq,x_len, s = 5)\n",
    "#plt.plot(predicted, x_len, color = 'black')\n",
    "\n",
    "plt.xlabel(\"Frequency\")\n",
    "plt.ylabel(\"Length \")\n",
    "plt.legend() \n",
    "plt.show() \n",
    "\n",
    "    "
   ]
  }
 ],
 "metadata": {
  "kernelspec": {
   "display_name": "Python 3",
   "language": "python",
   "name": "python3"
  },
  "language_info": {
   "codemirror_mode": {
    "name": "ipython",
    "version": 3
   },
   "file_extension": ".py",
   "mimetype": "text/x-python",
   "name": "python",
   "nbconvert_exporter": "python",
   "pygments_lexer": "ipython3",
   "version": "3.7.3"
  }
 },
 "nbformat": 4,
 "nbformat_minor": 2
}
