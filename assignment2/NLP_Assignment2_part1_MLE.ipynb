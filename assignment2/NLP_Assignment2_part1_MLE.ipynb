{
  "nbformat": 4,
  "nbformat_minor": 0,
  "metadata": {
    "colab": {
      "name": "NLP_Assignment2_part1_MLE",
      "provenance": []
    },
    "kernelspec": {
      "name": "python3",
      "display_name": "Python 3"
    },
    "accelerator": "GPU"
  },
  "cells": [
    {
      "cell_type": "markdown",
      "metadata": {
        "id": "GaGfmUnBHXFP",
        "colab_type": "text"
      },
      "source": [
        "#Classical Approach"
      ]
    },
    {
      "cell_type": "code",
      "metadata": {
        "id": "lcj2zMEcHbOF",
        "colab_type": "code",
        "outputId": "66df0625-7034-479f-b13a-e3837f2b7242",
        "colab": {
          "base_uri": "https://localhost:8080/",
          "height": 34
        }
      },
      "source": [
        "!ls"
      ],
      "execution_count": 1,
      "outputs": [
        {
          "output_type": "stream",
          "text": [
            "sample_data\n"
          ],
          "name": "stdout"
        }
      ]
    },
    {
      "cell_type": "code",
      "metadata": {
        "id": "c95CAPMlI2zT",
        "colab_type": "code",
        "outputId": "c52e69ba-fe90-476c-e01c-37c9757a71d3",
        "colab": {
          "base_uri": "https://localhost:8080/",
          "height": 125
        }
      },
      "source": [
        "from google.colab import drive\n",
        "drive.mount('/content/drive')"
      ],
      "execution_count": 2,
      "outputs": [
        {
          "output_type": "stream",
          "text": [
            "Go to this URL in a browser: https://accounts.google.com/o/oauth2/auth?client_id=947318989803-6bn6qk8qdgf4n4g3pfee6491hc0brc4i.apps.googleusercontent.com&redirect_uri=urn%3Aietf%3Awg%3Aoauth%3A2.0%3Aoob&scope=email%20https%3A%2F%2Fwww.googleapis.com%2Fauth%2Fdocs.test%20https%3A%2F%2Fwww.googleapis.com%2Fauth%2Fdrive%20https%3A%2F%2Fwww.googleapis.com%2Fauth%2Fdrive.photos.readonly%20https%3A%2F%2Fwww.googleapis.com%2Fauth%2Fpeopleapi.readonly&response_type=code\n",
            "\n",
            "Enter your authorization code:\n",
            "··········\n",
            "Mounted at /content/drive\n"
          ],
          "name": "stdout"
        }
      ]
    },
    {
      "cell_type": "code",
      "metadata": {
        "id": "bZAlxap-KAHi",
        "colab_type": "code",
        "outputId": "8bfcb612-30c0-4449-f310-4088d9c60e8d",
        "colab": {
          "base_uri": "https://localhost:8080/",
          "height": 34
        }
      },
      "source": [
        "cd drive/My\\ Drive/"
      ],
      "execution_count": 3,
      "outputs": [
        {
          "output_type": "stream",
          "text": [
            "/content/drive/My Drive\n"
          ],
          "name": "stdout"
        }
      ]
    },
    {
      "cell_type": "code",
      "metadata": {
        "id": "g3WsQepwKLyo",
        "colab_type": "code",
        "colab": {}
      },
      "source": [
        "!ls"
      ],
      "execution_count": 0,
      "outputs": []
    },
    {
      "cell_type": "code",
      "metadata": {
        "id": "aIIf6zsrJuie",
        "colab_type": "code",
        "outputId": "ea7143ae-32e8-4156-8429-be127ab202c4",
        "colab": {
          "base_uri": "https://localhost:8080/",
          "height": 34
        }
      },
      "source": [
        "cd NLP_Assignment_2"
      ],
      "execution_count": 4,
      "outputs": [
        {
          "output_type": "stream",
          "text": [
            "/content/drive/My Drive/NLP_Assignment_2\n"
          ],
          "name": "stdout"
        }
      ]
    },
    {
      "cell_type": "code",
      "metadata": {
        "id": "PSve9KALJjbI",
        "colab_type": "code",
        "outputId": "cb7884ef-097e-4fcc-90bf-91704475497f",
        "colab": {
          "base_uri": "https://localhost:8080/",
          "height": 232
        }
      },
      "source": [
        "!wget https://raw.githubusercontent.com/ryanmcdermott/trump-speeches/master/speeches.txt"
      ],
      "execution_count": 0,
      "outputs": [
        {
          "output_type": "stream",
          "text": [
            "--2019-10-05 18:23:54--  https://raw.githubusercontent.com/ryanmcdermott/trump-speeches/master/speeches.txt\n",
            "Resolving raw.githubusercontent.com (raw.githubusercontent.com)... 151.101.0.133, 151.101.64.133, 151.101.128.133, ...\n",
            "Connecting to raw.githubusercontent.com (raw.githubusercontent.com)|151.101.0.133|:443... connected.\n",
            "HTTP request sent, awaiting response... 200 OK\n",
            "Length: 924745 (903K) [text/plain]\n",
            "Saving to: ‘speeches.txt’\n",
            "\n",
            "\rspeeches.txt          0%[                    ]       0  --.-KB/s               \rspeeches.txt        100%[===================>] 903.07K  --.-KB/s    in 0.05s   \n",
            "\n",
            "2019-10-05 18:23:54 (18.2 MB/s) - ‘speeches.txt’ saved [924745/924745]\n",
            "\n"
          ],
          "name": "stdout"
        }
      ]
    },
    {
      "cell_type": "code",
      "metadata": {
        "id": "eAHjBs54dwlj",
        "colab_type": "code",
        "outputId": "5ce8858f-5589-437a-c117-fbf69b9f33e7",
        "colab": {
          "base_uri": "https://localhost:8080/",
          "height": 353
        }
      },
      "source": [
        "!pip install nltk --upgrade"
      ],
      "execution_count": 9,
      "outputs": [
        {
          "output_type": "stream",
          "text": [
            "Collecting nltk\n",
            "\u001b[?25l  Downloading https://files.pythonhosted.org/packages/f6/1d/d925cfb4f324ede997f6d47bea4d9babba51b49e87a767c170b77005889d/nltk-3.4.5.zip (1.5MB)\n",
            "\r\u001b[K     |▎                               | 10kB 19.2MB/s eta 0:00:01\r\u001b[K     |▌                               | 20kB 1.7MB/s eta 0:00:01\r\u001b[K     |▊                               | 30kB 2.5MB/s eta 0:00:01\r\u001b[K     |█                               | 40kB 1.6MB/s eta 0:00:01\r\u001b[K     |█▏                              | 51kB 2.0MB/s eta 0:00:01\r\u001b[K     |█▍                              | 61kB 2.4MB/s eta 0:00:01\r\u001b[K     |█▋                              | 71kB 2.8MB/s eta 0:00:01\r\u001b[K     |█▉                              | 81kB 3.2MB/s eta 0:00:01\r\u001b[K     |██                              | 92kB 3.5MB/s eta 0:00:01\r\u001b[K     |██▎                             | 102kB 2.7MB/s eta 0:00:01\r\u001b[K     |██▌                             | 112kB 2.7MB/s eta 0:00:01\r\u001b[K     |██▊                             | 122kB 2.7MB/s eta 0:00:01\r\u001b[K     |███                             | 133kB 2.7MB/s eta 0:00:01\r\u001b[K     |███▏                            | 143kB 2.7MB/s eta 0:00:01\r\u001b[K     |███▍                            | 153kB 2.7MB/s eta 0:00:01\r\u001b[K     |███▋                            | 163kB 2.7MB/s eta 0:00:01\r\u001b[K     |███▉                            | 174kB 2.7MB/s eta 0:00:01\r\u001b[K     |████                            | 184kB 2.7MB/s eta 0:00:01\r\u001b[K     |████▎                           | 194kB 2.7MB/s eta 0:00:01\r\u001b[K     |████▌                           | 204kB 2.7MB/s eta 0:00:01\r\u001b[K     |████▊                           | 215kB 2.7MB/s eta 0:00:01\r\u001b[K     |█████                           | 225kB 2.7MB/s eta 0:00:01\r\u001b[K     |█████▏                          | 235kB 2.7MB/s eta 0:00:01\r\u001b[K     |█████▍                          | 245kB 2.7MB/s eta 0:00:01\r\u001b[K     |█████▋                          | 256kB 2.7MB/s eta 0:00:01\r\u001b[K     |█████▉                          | 266kB 2.7MB/s eta 0:00:01\r\u001b[K     |██████                          | 276kB 2.7MB/s eta 0:00:01\r\u001b[K     |██████▎                         | 286kB 2.7MB/s eta 0:00:01\r\u001b[K     |██████▌                         | 296kB 2.7MB/s eta 0:00:01\r\u001b[K     |██████▊                         | 307kB 2.7MB/s eta 0:00:01\r\u001b[K     |███████                         | 317kB 2.7MB/s eta 0:00:01\r\u001b[K     |███████▎                        | 327kB 2.7MB/s eta 0:00:01\r\u001b[K     |███████▌                        | 337kB 2.7MB/s eta 0:00:01\r\u001b[K     |███████▊                        | 348kB 2.7MB/s eta 0:00:01\r\u001b[K     |████████                        | 358kB 2.7MB/s eta 0:00:01\r\u001b[K     |████████▏                       | 368kB 2.7MB/s eta 0:00:01\r\u001b[K     |████████▍                       | 378kB 2.7MB/s eta 0:00:01\r\u001b[K     |████████▋                       | 389kB 2.7MB/s eta 0:00:01\r\u001b[K     |████████▉                       | 399kB 2.7MB/s eta 0:00:01\r\u001b[K     |█████████                       | 409kB 2.7MB/s eta 0:00:01\r\u001b[K     |█████████▎                      | 419kB 2.7MB/s eta 0:00:01\r\u001b[K     |█████████▌                      | 430kB 2.7MB/s eta 0:00:01\r\u001b[K     |█████████▊                      | 440kB 2.7MB/s eta 0:00:01\r\u001b[K     |██████████                      | 450kB 2.7MB/s eta 0:00:01\r\u001b[K     |██████████▏                     | 460kB 2.7MB/s eta 0:00:01\r\u001b[K     |██████████▍                     | 471kB 2.7MB/s eta 0:00:01\r\u001b[K     |██████████▋                     | 481kB 2.7MB/s eta 0:00:01\r\u001b[K     |██████████▉                     | 491kB 2.7MB/s eta 0:00:01\r\u001b[K     |███████████                     | 501kB 2.7MB/s eta 0:00:01\r\u001b[K     |███████████▎                    | 512kB 2.7MB/s eta 0:00:01\r\u001b[K     |███████████▌                    | 522kB 2.7MB/s eta 0:00:01\r\u001b[K     |███████████▊                    | 532kB 2.7MB/s eta 0:00:01\r\u001b[K     |████████████                    | 542kB 2.7MB/s eta 0:00:01\r\u001b[K     |████████████▏                   | 552kB 2.7MB/s eta 0:00:01\r\u001b[K     |████████████▍                   | 563kB 2.7MB/s eta 0:00:01\r\u001b[K     |████████████▋                   | 573kB 2.7MB/s eta 0:00:01\r\u001b[K     |████████████▉                   | 583kB 2.7MB/s eta 0:00:01\r\u001b[K     |█████████████                   | 593kB 2.7MB/s eta 0:00:01\r\u001b[K     |█████████████▎                  | 604kB 2.7MB/s eta 0:00:01\r\u001b[K     |█████████████▌                  | 614kB 2.7MB/s eta 0:00:01\r\u001b[K     |█████████████▉                  | 624kB 2.7MB/s eta 0:00:01\r\u001b[K     |██████████████                  | 634kB 2.7MB/s eta 0:00:01\r\u001b[K     |██████████████▎                 | 645kB 2.7MB/s eta 0:00:01\r\u001b[K     |██████████████▌                 | 655kB 2.7MB/s eta 0:00:01\r\u001b[K     |██████████████▊                 | 665kB 2.7MB/s eta 0:00:01\r\u001b[K     |███████████████                 | 675kB 2.7MB/s eta 0:00:01\r\u001b[K     |███████████████▏                | 686kB 2.7MB/s eta 0:00:01\r\u001b[K     |███████████████▍                | 696kB 2.7MB/s eta 0:00:01\r\u001b[K     |███████████████▋                | 706kB 2.7MB/s eta 0:00:01\r\u001b[K     |███████████████▉                | 716kB 2.7MB/s eta 0:00:01\r\u001b[K     |████████████████                | 727kB 2.7MB/s eta 0:00:01\r\u001b[K     |████████████████▎               | 737kB 2.7MB/s eta 0:00:01\r\u001b[K     |████████████████▌               | 747kB 2.7MB/s eta 0:00:01\r\u001b[K     |████████████████▊               | 757kB 2.7MB/s eta 0:00:01\r\u001b[K     |█████████████████               | 768kB 2.7MB/s eta 0:00:01\r\u001b[K     |█████████████████▏              | 778kB 2.7MB/s eta 0:00:01\r\u001b[K     |█████████████████▍              | 788kB 2.7MB/s eta 0:00:01\r\u001b[K     |█████████████████▋              | 798kB 2.7MB/s eta 0:00:01\r\u001b[K     |█████████████████▉              | 808kB 2.7MB/s eta 0:00:01\r\u001b[K     |██████████████████              | 819kB 2.7MB/s eta 0:00:01\r\u001b[K     |██████████████████▎             | 829kB 2.7MB/s eta 0:00:01\r\u001b[K     |██████████████████▌             | 839kB 2.7MB/s eta 0:00:01\r\u001b[K     |██████████████████▊             | 849kB 2.7MB/s eta 0:00:01\r\u001b[K     |███████████████████             | 860kB 2.7MB/s eta 0:00:01\r\u001b[K     |███████████████████▏            | 870kB 2.7MB/s eta 0:00:01\r\u001b[K     |███████████████████▍            | 880kB 2.7MB/s eta 0:00:01\r\u001b[K     |███████████████████▋            | 890kB 2.7MB/s eta 0:00:01\r\u001b[K     |███████████████████▉            | 901kB 2.7MB/s eta 0:00:01\r\u001b[K     |████████████████████            | 911kB 2.7MB/s eta 0:00:01\r\u001b[K     |████████████████████▎           | 921kB 2.7MB/s eta 0:00:01\r\u001b[K     |████████████████████▋           | 931kB 2.7MB/s eta 0:00:01\r\u001b[K     |████████████████████▉           | 942kB 2.7MB/s eta 0:00:01\r\u001b[K     |█████████████████████           | 952kB 2.7MB/s eta 0:00:01\r\u001b[K     |█████████████████████▎          | 962kB 2.7MB/s eta 0:00:01\r\u001b[K     |█████████████████████▌          | 972kB 2.7MB/s eta 0:00:01\r\u001b[K     |█████████████████████▊          | 983kB 2.7MB/s eta 0:00:01\r\u001b[K     |██████████████████████          | 993kB 2.7MB/s eta 0:00:01\r\u001b[K     |██████████████████████▏         | 1.0MB 2.7MB/s eta 0:00:01\r\u001b[K     |██████████████████████▍         | 1.0MB 2.7MB/s eta 0:00:01\r\u001b[K     |██████████████████████▋         | 1.0MB 2.7MB/s eta 0:00:01\r\u001b[K     |██████████████████████▉         | 1.0MB 2.7MB/s eta 0:00:01\r\u001b[K     |███████████████████████         | 1.0MB 2.7MB/s eta 0:00:01\r\u001b[K     |███████████████████████▎        | 1.1MB 2.7MB/s eta 0:00:01\r\u001b[K     |███████████████████████▌        | 1.1MB 2.7MB/s eta 0:00:01\r\u001b[K     |███████████████████████▊        | 1.1MB 2.7MB/s eta 0:00:01\r\u001b[K     |████████████████████████        | 1.1MB 2.7MB/s eta 0:00:01\r\u001b[K     |████████████████████████▏       | 1.1MB 2.7MB/s eta 0:00:01\r\u001b[K     |████████████████████████▍       | 1.1MB 2.7MB/s eta 0:00:01\r\u001b[K     |████████████████████████▋       | 1.1MB 2.7MB/s eta 0:00:01\r\u001b[K     |████████████████████████▉       | 1.1MB 2.7MB/s eta 0:00:01\r\u001b[K     |█████████████████████████       | 1.1MB 2.7MB/s eta 0:00:01\r\u001b[K     |█████████████████████████▎      | 1.1MB 2.7MB/s eta 0:00:01\r\u001b[K     |█████████████████████████▌      | 1.2MB 2.7MB/s eta 0:00:01\r\u001b[K     |█████████████████████████▊      | 1.2MB 2.7MB/s eta 0:00:01\r\u001b[K     |██████████████████████████      | 1.2MB 2.7MB/s eta 0:00:01\r\u001b[K     |██████████████████████████▏     | 1.2MB 2.7MB/s eta 0:00:01\r\u001b[K     |██████████████████████████▍     | 1.2MB 2.7MB/s eta 0:00:01\r\u001b[K     |██████████████████████████▋     | 1.2MB 2.7MB/s eta 0:00:01\r\u001b[K     |██████████████████████████▉     | 1.2MB 2.7MB/s eta 0:00:01\r\u001b[K     |███████████████████████████     | 1.2MB 2.7MB/s eta 0:00:01\r\u001b[K     |███████████████████████████▍    | 1.2MB 2.7MB/s eta 0:00:01\r\u001b[K     |███████████████████████████▋    | 1.2MB 2.7MB/s eta 0:00:01\r\u001b[K     |███████████████████████████▉    | 1.3MB 2.7MB/s eta 0:00:01\r\u001b[K     |████████████████████████████    | 1.3MB 2.7MB/s eta 0:00:01\r\u001b[K     |████████████████████████████▎   | 1.3MB 2.7MB/s eta 0:00:01\r\u001b[K     |████████████████████████████▌   | 1.3MB 2.7MB/s eta 0:00:01\r\u001b[K     |████████████████████████████▊   | 1.3MB 2.7MB/s eta 0:00:01\r\u001b[K     |█████████████████████████████   | 1.3MB 2.7MB/s eta 0:00:01\r\u001b[K     |█████████████████████████████▏  | 1.3MB 2.7MB/s eta 0:00:01\r\u001b[K     |█████████████████████████████▍  | 1.3MB 2.7MB/s eta 0:00:01\r\u001b[K     |█████████████████████████████▋  | 1.3MB 2.7MB/s eta 0:00:01\r\u001b[K     |█████████████████████████████▉  | 1.4MB 2.7MB/s eta 0:00:01\r\u001b[K     |██████████████████████████████  | 1.4MB 2.7MB/s eta 0:00:01\r\u001b[K     |██████████████████████████████▎ | 1.4MB 2.7MB/s eta 0:00:01\r\u001b[K     |██████████████████████████████▌ | 1.4MB 2.7MB/s eta 0:00:01\r\u001b[K     |██████████████████████████████▊ | 1.4MB 2.7MB/s eta 0:00:01\r\u001b[K     |███████████████████████████████ | 1.4MB 2.7MB/s eta 0:00:01\r\u001b[K     |███████████████████████████████▏| 1.4MB 2.7MB/s eta 0:00:01\r\u001b[K     |███████████████████████████████▍| 1.4MB 2.7MB/s eta 0:00:01\r\u001b[K     |███████████████████████████████▋| 1.4MB 2.7MB/s eta 0:00:01\r\u001b[K     |███████████████████████████████▉| 1.4MB 2.7MB/s eta 0:00:01\r\u001b[K     |████████████████████████████████| 1.5MB 2.7MB/s \n",
            "\u001b[?25hRequirement already satisfied, skipping upgrade: six in /usr/local/lib/python3.6/dist-packages (from nltk) (1.12.0)\n",
            "Building wheels for collected packages: nltk\n",
            "  Building wheel for nltk (setup.py) ... \u001b[?25l\u001b[?25hdone\n",
            "  Created wheel for nltk: filename=nltk-3.4.5-cp36-none-any.whl size=1449910 sha256=5d4544d6ae1150782cbfb358015788cb23b0a2fc75d513dd00b14cb0b96169d6\n",
            "  Stored in directory: /root/.cache/pip/wheels/96/86/f6/68ab24c23f207c0077381a5e3904b2815136b879538a24b483\n",
            "Successfully built nltk\n",
            "Installing collected packages: nltk\n",
            "  Found existing installation: nltk 3.2.5\n",
            "    Uninstalling nltk-3.2.5:\n",
            "      Successfully uninstalled nltk-3.2.5\n",
            "Successfully installed nltk-3.4.5\n"
          ],
          "name": "stdout"
        },
        {
          "output_type": "display_data",
          "data": {
            "application/vnd.colab-display-data+json": {
              "pip_warning": {
                "packages": [
                  "nltk"
                ]
              }
            }
          },
          "metadata": {
            "tags": []
          }
        }
      ]
    },
    {
      "cell_type": "code",
      "metadata": {
        "id": "P43GO82MKhJd",
        "colab_type": "code",
        "colab": {}
      },
      "source": [
        "file = open('speeches.txt',encoding=\"utf-8\")\n",
        "text = file.read()\n"
      ],
      "execution_count": 0,
      "outputs": []
    },
    {
      "cell_type": "code",
      "metadata": {
        "id": "0BDOpHrJazb2",
        "colab_type": "code",
        "colab": {}
      },
      "source": [
        ""
      ],
      "execution_count": 0,
      "outputs": []
    },
    {
      "cell_type": "code",
      "metadata": {
        "id": "n7wXKssOLmI8",
        "colab_type": "code",
        "outputId": "c421be28-9893-4c3f-ad5a-8f8b28ad3c1b",
        "colab": {
          "base_uri": "https://localhost:8080/",
          "height": 70
        }
      },
      "source": [
        "import re\n",
        "import nltk\n",
        "nltk.download('punkt')\n",
        "from nltk.tokenize import sent_tokenize\n",
        "print(nltk.__version__)"
      ],
      "execution_count": 11,
      "outputs": [
        {
          "output_type": "stream",
          "text": [
            "[nltk_data] Downloading package punkt to /root/nltk_data...\n",
            "[nltk_data]   Package punkt is already up-to-date!\n",
            "3.2.5\n"
          ],
          "name": "stdout"
        }
      ]
    },
    {
      "cell_type": "code",
      "metadata": {
        "id": "DE1HtJvJOOz2",
        "colab_type": "code",
        "colab": {}
      },
      "source": [
        "vocablist = []"
      ],
      "execution_count": 0,
      "outputs": []
    },
    {
      "cell_type": "code",
      "metadata": {
        "id": "U0P3uUwQMZME",
        "colab_type": "code",
        "outputId": "8000a877-3e74-46cc-ad48-dbc6d95cbbda",
        "colab": {
          "base_uri": "https://localhost:8080/",
          "height": 34
        }
      },
      "source": [
        "sentences = sent_tokenize(text)\n",
        "print(len(sentences))\n"
      ],
      "execution_count": 13,
      "outputs": [
        {
          "output_type": "stream",
          "text": [
            "16493\n"
          ],
          "name": "stdout"
        }
      ]
    },
    {
      "cell_type": "code",
      "metadata": {
        "id": "T5m5gQ9oP0cf",
        "colab_type": "code",
        "colab": {}
      },
      "source": [
        "for i in range(len(sentences)) : \n",
        "  #print(i)\n",
        "  k = re.sub(r'[^A-Za-z\\s\\']',\"\",sentences[i])\n",
        "  k = k.lower()\n",
        "  sentences[i] = '<s> '+k +' </s>'\n",
        "  \n",
        "  \n",
        "  #print(sentences[i])\n",
        "  "
      ],
      "execution_count": 0,
      "outputs": []
    },
    {
      "cell_type": "code",
      "metadata": {
        "id": "T0SodPfsR9SZ",
        "colab_type": "code",
        "colab": {}
      },
      "source": [
        "# for i in sentences:\n",
        "#   print(i)"
      ],
      "execution_count": 0,
      "outputs": []
    },
    {
      "cell_type": "code",
      "metadata": {
        "id": "A6TsLsYIXJ3H",
        "colab_type": "code",
        "colab": {}
      },
      "source": [
        "train = sentences[:13194]\n",
        "test = sentences[13194:]"
      ],
      "execution_count": 0,
      "outputs": []
    },
    {
      "cell_type": "code",
      "metadata": {
        "id": "7u1KRIVUYZ1Z",
        "colab_type": "code",
        "outputId": "d19ffa5e-4a45-4c2e-d0c6-0544078e42d9",
        "colab": {
          "base_uri": "https://localhost:8080/",
          "height": 34
        }
      },
      "source": [
        "#vocabulary = set(vocablist)\n",
        "\n",
        "vocabulary = set((' '.join(sentences)).split())\n",
        "\n",
        "print(len(vocabulary))"
      ],
      "execution_count": 17,
      "outputs": [
        {
          "output_type": "stream",
          "text": [
            "6071\n"
          ],
          "name": "stdout"
        }
      ]
    },
    {
      "cell_type": "markdown",
      "metadata": {
        "id": "g6Qo-LM2IJKF",
        "colab_type": "text"
      },
      "source": [
        "#computing unigrams, bigrams etc"
      ]
    },
    {
      "cell_type": "markdown",
      "metadata": {
        "id": "bAKFObROIORa",
        "colab_type": "text"
      },
      "source": [
        ""
      ]
    },
    {
      "cell_type": "code",
      "metadata": {
        "id": "R11JCJM4cNZ8",
        "colab_type": "code",
        "colab": {
          "base_uri": "https://localhost:8080/",
          "height": 52
        },
        "outputId": "7d70ea44-e517-4ecb-8387-723a1a4e7496"
      },
      "source": [
        "from nltk import ngrams\n",
        "unigramlist = []\n",
        "bigramlist = []\n",
        "trigramlist = []\n",
        "fourgramlist = []\n",
        "for sentence in train:\n",
        "  unigramlist += sentence.split()\n",
        "  bigramlist += list(ngrams(sentence.split(),2))\n",
        "  trigramlist += list(ngrams(sentence.split(),3))\n",
        "  fourgramlist += list(ngrams(sentence.split(),4))"
      ],
      "execution_count": 18,
      "outputs": [
        {
          "output_type": "stream",
          "text": [
            "/usr/local/lib/python3.6/dist-packages/ipykernel_launcher.py:10: DeprecationWarning: generator 'ngrams' raised StopIteration\n",
            "  # Remove the CWD from sys.path while we load stuff.\n"
          ],
          "name": "stderr"
        }
      ]
    },
    {
      "cell_type": "code",
      "metadata": {
        "id": "Upnnz371fR8E",
        "colab_type": "code",
        "colab": {}
      },
      "source": [
        "# for i in trifreq.keys():\n",
        "#   print(i,trifreq[i])"
      ],
      "execution_count": 0,
      "outputs": []
    },
    {
      "cell_type": "code",
      "metadata": {
        "id": "OlQ0FFhel3uY",
        "colab_type": "code",
        "colab": {}
      },
      "source": [
        "unifreq = nltk.FreqDist(unigramlist)\n",
        "bifreq =  nltk.FreqDist(bigramlist)\n",
        "trifreq = nltk.FreqDist(trigramlist)\n",
        "fourfreq = nltk.FreqDist(fourgramlist)"
      ],
      "execution_count": 0,
      "outputs": []
    },
    {
      "cell_type": "code",
      "metadata": {
        "id": "vvpoehHjnOtD",
        "colab_type": "code",
        "outputId": "6faafeb6-6360-4791-bc05-bbc2f7190560",
        "colab": {
          "base_uri": "https://localhost:8080/",
          "height": 34
        }
      },
      "source": [
        "def unigram_mle(word): #unigram MLE\n",
        "  if word in unigramlist:\n",
        "    return((unifreq[word]+1)/(len(unigramlist)+len(vocabulary)))\n",
        "  else:\n",
        "    return(1/(len(unigramlist)+len(vocabulary)))\n",
        "unigram_mle('was')"
      ],
      "execution_count": 105,
      "outputs": [
        {
          "output_type": "execute_result",
          "data": {
            "text/plain": [
              "0.004750320024752625"
            ]
          },
          "metadata": {
            "tags": []
          },
          "execution_count": 105
        }
      ]
    },
    {
      "cell_type": "code",
      "metadata": {
        "id": "JSk1nvE9Iqv9",
        "colab_type": "code",
        "colab": {}
      },
      "source": [
        ""
      ],
      "execution_count": 0,
      "outputs": []
    },
    {
      "cell_type": "code",
      "metadata": {
        "id": "_FmXw6zQpXpz",
        "colab_type": "code",
        "colab": {
          "base_uri": "https://localhost:8080/",
          "height": 34
        },
        "outputId": "95e8558f-e6ad-4660-d26a-0bfeda32c337"
      },
      "source": [
        "def bigram_mle(A,B): #Bigram MLE \n",
        "  if (B,A) in bigramlist :\n",
        "    return((1+bifreq[(B,A)])/(unifreq[B] + len(set(unifreq.keys()))))\n",
        "  else:\n",
        "    return(1/(unifreq[B]+ len(set(unifreq.keys()))))\n",
        "bigram_mle('so','you')"
      ],
      "execution_count": 106,
      "outputs": [
        {
          "output_type": "execute_result",
          "data": {
            "text/plain": [
              "0.0007624857033930614"
            ]
          },
          "metadata": {
            "tags": []
          },
          "execution_count": 106
        }
      ]
    },
    {
      "cell_type": "code",
      "metadata": {
        "id": "sf1EmoYOJJuq",
        "colab_type": "code",
        "colab": {
          "base_uri": "https://localhost:8080/",
          "height": 70
        },
        "outputId": "ba73a917-e1c7-48fa-ab5a-c889be434fda"
      },
      "source": [
        "def trigram_mle(A,B,C): #Trigram MLE \n",
        "  if (B,C,A) in trigramlist :\n",
        "    #return((1+trifreq[(B,C,A)])/(bifreq[(B,C)]+ len(set(bifreq.keys()))))\n",
        "    return((1+trifreq[(B,C,A)])/(bifreq[(B,C)]+ len(set(unifreq.keys()))))    \n",
        "  else:\n",
        "    return((1)/(bifreq[(B,C)]+ len(set(unifreq.keys()))))\n",
        "    \n",
        "print(bifreq[('thats','not')])\n",
        "print(trifreq[('thats','not','it')])\n",
        "#trigram_perplexity(test[3])\n",
        "trigram_mle('true','thats','not')\n",
        "\n",
        "  \n"
      ],
      "execution_count": 107,
      "outputs": [
        {
          "output_type": "stream",
          "text": [
            "33\n",
            "0\n"
          ],
          "name": "stdout"
        },
        {
          "output_type": "execute_result",
          "data": {
            "text/plain": [
              "0.0001841959845275373"
            ]
          },
          "metadata": {
            "tags": []
          },
          "execution_count": 107
        }
      ]
    },
    {
      "cell_type": "code",
      "metadata": {
        "id": "Ayi3T9jGNKLV",
        "colab_type": "code",
        "colab": {
          "base_uri": "https://localhost:8080/",
          "height": 34
        },
        "outputId": "66dd649e-b8fa-4927-f891-d76dea247787"
      },
      "source": [
        "def fourgram_mle(A,B,C,D): #fourgram MLE \n",
        "  if (B,C,D,A) in fourgramlist :\n",
        "    return((1+fourfreq[(B,C,D,A)])/(trifreq[(B,C,D)]+len(set(unifreq.keys()))))\n",
        "  else:\n",
        "    return((1)/(trifreq[(B,C,D)]+ len(set(trifreq.keys()))))\n",
        "fourgram_mle('so','thank','you','yaar')"
      ],
      "execution_count": 108,
      "outputs": [
        {
          "output_type": "execute_result",
          "data": {
            "text/plain": [
              "1.2268132299538719e-05"
            ]
          },
          "metadata": {
            "tags": []
          },
          "execution_count": 108
        }
      ]
    },
    {
      "cell_type": "markdown",
      "metadata": {
        "id": "qIEPimucHm65",
        "colab_type": "text"
      },
      "source": [
        "#perplexities"
      ]
    },
    {
      "cell_type": "code",
      "metadata": {
        "id": "BlVtYVfbBKsF",
        "colab_type": "code",
        "colab": {
          "base_uri": "https://localhost:8080/",
          "height": 34
        },
        "outputId": "a52a8376-64ab-4458-afc9-154562ad67fe"
      },
      "source": [
        "import math\n",
        "def unigram_perplexity(sen):\n",
        "  words = sen.split()\n",
        "  p = 1\n",
        "  for i in range(len(words)):\n",
        "    k = unigram_mle(words[i])\n",
        "    p = p*(1/k)**(1/len(words))\n",
        "    #print(p)\n",
        "  return(p)\n",
        "\n",
        "\n",
        "#print(bigram_perplexity(test[19]))\n",
        "\n",
        "def total_perplexity_unigram(test):\n",
        "  k = 1\n",
        "  mo = 0\n",
        "  for i in test: \n",
        "    temp = unigram_perplexity(i)\n",
        "    #print(temp)\n",
        "    \n",
        "    k = k* (temp**(1/len(test)))\n",
        "  return(k)\n",
        "\n",
        "perplexity_unigram = total_perplexity_unigram(test)\n",
        "print(\"perplexity for unigram model\",perplexity_unigram)"
      ],
      "execution_count": 114,
      "outputs": [
        {
          "output_type": "stream",
          "text": [
            "perplexity for unigram model 245.1713515224132\n"
          ],
          "name": "stdout"
        }
      ]
    },
    {
      "cell_type": "code",
      "metadata": {
        "id": "xi1hkUkgWu-C",
        "colab_type": "code",
        "colab": {
          "base_uri": "https://localhost:8080/",
          "height": 34
        },
        "outputId": "b93c3a9b-459b-4de0-ae70-dd288f690e77"
      },
      "source": [
        "import math\n",
        "def bigram_perplexity(sen):\n",
        "  words = sen.split()\n",
        "  p = 1\n",
        "  for i in range(1,len(words)):\n",
        "    k = bigram_mle(words[i],words[i-1])\n",
        "    p = p*(1/k)**(1/len(words))\n",
        "    #print(p)\n",
        "  return(p)\n",
        "\n",
        "\n",
        "#print(bigram_perplexity(test[19]))\n",
        "\n",
        "def total_perplexity_bigram(test):\n",
        "  k = 1\n",
        "  mo = 0\n",
        "  for i in test: \n",
        "    temp = bigram_perplexity(i)\n",
        "    #print(temp)\n",
        "    \n",
        "    k = k* (temp**(1/len(test)))\n",
        "  return(k)\n",
        "\n",
        "perplexity_bigram = total_perplexity_bigram(test)\n",
        "print(\"perplexity for bigram model\",perplexity_bigram)"
      ],
      "execution_count": 111,
      "outputs": [
        {
          "output_type": "stream",
          "text": [
            "perplexity for unigram model 243.27725505222895\n"
          ],
          "name": "stdout"
        }
      ]
    },
    {
      "cell_type": "code",
      "metadata": {
        "id": "BlpZiq5agiER",
        "colab_type": "code",
        "colab": {
          "base_uri": "https://localhost:8080/",
          "height": 34
        },
        "outputId": "61aef9ec-62a4-49ee-9c7d-9206c660e8ff"
      },
      "source": [
        "import math\n",
        "def trigram_perplexity(sen):\n",
        "  p = 1\n",
        "  words = sen.split()\n",
        "  for i in range(2,len(words)):\n",
        "    #p = p*trigram_mle(sen[i],sen[i-1])\n",
        "    k = trigram_mle(words[i],words[i-2],words[i-1])\n",
        "    #print(words[i])\n",
        "    p = p*(1/k)**(1/len(words))\n",
        "    #print(p)\n",
        "  return(p)\n",
        "\n",
        "#print(train[3])\n",
        "\n",
        "\n",
        "#trigram_perplexity(train[3])\n",
        "\n",
        "\n",
        "\n",
        "def total_perplexity_trigram(test):\n",
        "  k = 1\n",
        "  for i in test: \n",
        "    temp = trigram_perplexity(i)\n",
        "    #print(temp)\n",
        "    k = k* (temp**(1/len(test)))\n",
        "  return(k)\n",
        "\n",
        "perplexity_trigram = total_perplexity_trigram(test)\n",
        "print(\"perplexity for trigram model\",perplexity_trigram)"
      ],
      "execution_count": 112,
      "outputs": [
        {
          "output_type": "stream",
          "text": [
            "perplexity for trigram model 326.5206426759734\n"
          ],
          "name": "stdout"
        }
      ]
    },
    {
      "cell_type": "code",
      "metadata": {
        "id": "YPpZggrsAzfP",
        "colab_type": "code",
        "colab": {
          "base_uri": "https://localhost:8080/",
          "height": 34
        },
        "outputId": "367f4d00-b0fb-4b74-d9dc-17871019b2d5"
      },
      "source": [
        "import math\n",
        "def fourgram_perplexity(sen):\n",
        "  p = 1\n",
        "  words = sen.split()\n",
        "  for i in range(3,len(words)):\n",
        "    #p = p*trigram_mle(sen[i],sen[i-1])\n",
        "    k = fourgram_mle(words[i],words[i-3],words[i-2],words[i-1])\n",
        "    #print(words[i])\n",
        "    p = p*(1/k)**(1/len(words))\n",
        "    #print(p)\n",
        "  return(p)\n",
        "\n",
        "#print(train[3])\n",
        "\n",
        "\n",
        "#trigram_perplexity(train[3])\n",
        "\n",
        "\n",
        "\n",
        "def total_perplexity_fourgram(test):\n",
        "  k = 1\n",
        "  for i in test: \n",
        "    temp = fourgram_perplexity(i)\n",
        "    #print(temp)\n",
        "    k = k* (temp**(1/len(test)))\n",
        "  return(k)\n",
        "\n",
        "perplexity_fourgram = total_perplexity_fourgram(test)\n",
        "print(\"perplexity for fourgram model\",perplexity_fourgram)"
      ],
      "execution_count": 113,
      "outputs": [
        {
          "output_type": "stream",
          "text": [
            "perplexity for fourgram model 751.5439496710676\n"
          ],
          "name": "stdout"
        }
      ]
    },
    {
      "cell_type": "markdown",
      "metadata": {
        "id": "vPBKRzX-HqhZ",
        "colab_type": "text"
      },
      "source": [
        "#Text generation"
      ]
    },
    {
      "cell_type": "code",
      "metadata": {
        "id": "4x-V-0y0CzXU",
        "colab_type": "code",
        "colab": {}
      },
      "source": [
        "import random\n",
        "def generate(n):\n",
        "  \n",
        "  if n == 2:\n",
        "    sentence = []\n",
        "    try:\n",
        "      k = random.randint(1,len(unigramlist))\n",
        "      sentence.append(unigramlist[k])\n",
        "      k = 0\n",
        "      while k<8:\n",
        "        #print(k)\n",
        "        lst1 = []\n",
        "        lst2 = []\n",
        "\n",
        "        for bi in bigramlist:\n",
        "          #print(bi[0])\n",
        "          if bi[0]==sentence[-1]:\n",
        "            lst1.append(bi[1])\n",
        "            lst2.append(bigram_mle(bi[1],bi[0]))\n",
        "        #print(lst1)\n",
        "        max1 = lst2.index(max(lst2))\n",
        "        sentence.append(lst1[max1]) \n",
        "        k = k+1\n",
        "      return(sentence)\n",
        "    except:\n",
        "      return(sentence)\n",
        "\n",
        "  if n == 3:\n",
        "    sentence = []\n",
        "    try:\n",
        "      k = random.randint(1,len(bigramlist))\n",
        "      sentence.append(bigramlist[k][0])\n",
        "      sentence.append(bigramlist[k][1])\n",
        "      k = 0\n",
        "      #print(sentence)\n",
        "      while k<10:\n",
        "        #print(k)\n",
        "        lst1 = []\n",
        "        lst2 = []\n",
        "        for tri in trigramlist:\n",
        "          #print(bi[0])\n",
        "          if tri[0]==sentence[-2] and tri[1]==sentence[-1] :\n",
        "            #print('yo')\n",
        "            #print(tri[2])\n",
        "            lst1.append(tri[2])\n",
        "            #print(\"appended\")\n",
        "            \n",
        "            lst2.append(trigram_mle(tri[2],tri[0],tri[1]))\n",
        "            #print(\"appended2\")\n",
        "        \n",
        "        max1 = lst2.index(max(lst2))\n",
        "        sentence.append(lst1[max1]) \n",
        "        k = k+1\n",
        "      return(sentence)\n",
        "    except:\n",
        "      return(sentence)\n",
        "    \n",
        "  if n == 4:\n",
        "    sentence = []\n",
        "    try:\n",
        "      k = random.randint(1,len(trigramlist))\n",
        "      sentence.append(trigramlist[k][0])\n",
        "      sentence.append(trigramlist[k][1])\n",
        "      sentence.append(trigramlist[k][2])\n",
        "      k = 0\n",
        "      #print(sentence)\n",
        "      while k<10:\n",
        "        #print(k)\n",
        "        lst1 = []\n",
        "        lst2 = []\n",
        "        for four in fourgramlist:\n",
        "          \n",
        "          if four[0]==sentence[-3] and four[1]==sentence[-2] and four[2]==sentence[-1] :\n",
        "            lst1.append(four[3])\n",
        "            #print('yo')\n",
        "            lst2.append(fourgram_mle(four[3],four[0],four[1],four[2]))\n",
        "           \n",
        "        \n",
        "        max1 = lst2.index(max(lst2))\n",
        "        sentence.append(lst1[max1]) \n",
        "        k = k+1\n",
        "      return(sentence)\n",
        "    except:\n",
        "      return(sentence)\n",
        "\n",
        "    \n",
        "\n",
        "def generator(no,ngram):\n",
        "  if ngram==2:\n",
        "    for i in range(no):\n",
        "      print(generate(2))\n",
        "    return\n",
        "  if ngram ==3:\n",
        "    for i in range(no):\n",
        "      a = generate(3)\n",
        "      print(a)\n",
        "  if ngram ==4:\n",
        "    for i in range(no):\n",
        "      print (generate(4))\n",
        "      #print(a)\n",
        "    return\n",
        "\n",
        "    "
      ],
      "execution_count": 0,
      "outputs": []
    },
    {
      "cell_type": "code",
      "metadata": {
        "id": "kPTpDwNWemvM",
        "colab_type": "code",
        "colab": {
          "base_uri": "https://localhost:8080/",
          "height": 123
        },
        "outputId": "e70a77e5-83c4-4534-d4bb-f45513cfe621"
      },
      "source": [
        "print(generator(5,2)) #generating sentences from bigram model\n"
      ],
      "execution_count": 174,
      "outputs": [
        {
          "output_type": "stream",
          "text": [
            "['</s>']\n",
            "['going', 'to', 'be', 'a', 'lot', 'of', 'the', 'way', '</s>']\n",
            "['</s>']\n",
            "['about', 'it', '</s>']\n",
            "['going', 'to', 'be', 'a', 'lot', 'of', 'the', 'way', '</s>']\n",
            "None\n"
          ],
          "name": "stdout"
        }
      ]
    },
    {
      "cell_type": "code",
      "metadata": {
        "id": "Hx8H7npue-PO",
        "colab_type": "code",
        "colab": {
          "base_uri": "https://localhost:8080/",
          "height": 123
        },
        "outputId": "60040719-5402-4457-9d90-26b92bf9e2cd"
      },
      "source": [
        "print(generator(5,3)) # generating sentences from trigram model"
      ],
      "execution_count": 159,
      "outputs": [
        {
          "output_type": "stream",
          "text": [
            "['to', 'me', '</s>']\n",
            "['with', 'iran', '</s>']\n",
            "['i', 'went', 'to', 'the', 'united', 'states', '</s>']\n",
            "['they', 'want', 'to', 'do', 'it', '</s>']\n",
            "[\"can't\", 'let', 'iran', 'get', 'a', 'lot', 'of', 'people', '</s>']\n",
            "None\n"
          ],
          "name": "stdout"
        }
      ]
    },
    {
      "cell_type": "code",
      "metadata": {
        "id": "IBa98mwSf75F",
        "colab_type": "code",
        "colab": {
          "base_uri": "https://localhost:8080/",
          "height": 123
        },
        "outputId": "56b48a52-a448-407c-d532-f8e2e761718d"
      },
      "source": [
        "print(generator(5,4)) # generating sentences from quadgram model"
      ],
      "execution_count": 168,
      "outputs": [
        {
          "output_type": "stream",
          "text": [
            "['want', 'your', 'support', 'but', 'i', 'dont', 'want', 'to', 'tell', 'you', '</s>']\n",
            "['<s>', 'is', 'that', 'okay', '</s>']\n",
            "['the', 'next', 'four', 'years', '</s>']\n",
            "['came', 'in', 'three', 'minutes', 'ago', 'in', 'new', 'hampshire', '</s>']\n",
            "['he', 'didnt', 'win', 'anything', '</s>']\n",
            "None\n"
          ],
          "name": "stdout"
        }
      ]
    },
    {
      "cell_type": "markdown",
      "metadata": {
        "id": "3TfmuIhOIDPB",
        "colab_type": "text"
      },
      "source": [
        ""
      ]
    }
  ]
}